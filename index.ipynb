{
 "cells": [
  {
   "cell_type": "markdown",
   "metadata": {},
   "source": [
    "# APIs - Cumulative Lab\n",
    "\n",
    "\n",
    "## Introduction \n",
    "\n",
    "We've seen how the Yelp API works and how to create basic visualizations using Folium. It's time to put those skills to work in order to create a working map! Taking things a step further, you'll also independently explore how to perform pagination in order to retrieve a full results set from the Yelp API.\n",
    "\n",
    "## Objectives\n",
    "\n",
    "You will be able to: \n",
    "\n",
    "* Practice using functions to organize your code\n",
    "* Use pagination to retrieve all results from an API query\n",
    "* Practice parsing data returned from an API query\n",
    "* Practice interpreting visualizations of a dataset\n",
    "* Create maps using Folium"
   ]
  },
  {
   "cell_type": "markdown",
   "metadata": {},
   "source": [
    "## Your Task: Query Yelp for All Businesses in a Category and Analyze the Results\n",
    "\n",
    "![restaurant counter with pizza](images/restaurant_counter.jpg)\n",
    "\n",
    "Photo by <a href=\"https://unsplash.com/@jordanmadrid?utm_source=unsplash&utm_medium=referral&utm_content=creditCopyText\">Jordan Madrid</a> on <a href=\"/s/photos/pizza-restaurant?utm_source=unsplash&utm_medium=referral&utm_content=creditCopyText\">Unsplash</a>"
   ]
  },
  {
   "cell_type": "markdown",
   "metadata": {},
   "source": [
    "### Overview\n",
    "\n",
    "You've now worked with some API calls, but we have yet to see how to retrieve a more complete dataset in a programmatic manner. In this lab, you will write a query of businesses on Yelp, then use *pagination* to retrieve all possible results for that query. Then you will create a summary of your findings, including a Folium map of the geographic locations of those businesses.\n",
    "\n",
    "### Technical Details\n",
    "\n",
    "Returning to the Yelp API, the [documentation](https://www.yelp.com/developers/documentation/v3/business_search) also provides us details regarding the **API limits**. These often include details about the number of requests a user is allowed to make within a specified time limit and the maximum number of results to be returned. In this case, we are told that any request has a **maximum of 50 results per request** and defaults to 20. Furthermore, any search will be limited to a **total of 1000 results**. To retrieve all 1000 of these results, we would have to page through the results piece by piece, retrieving 50 at a time. Processes such as these are often referred to as pagination.\n",
    "\n",
    "Also, be mindful of the **API** ***rate*** **limits**. You can only make **5000 requests per day** and are also can make requests too fast. Start prototyping small before running a loop that could be faulty. You can also use `time.sleep(n)` to add delays. For more details see https://www.yelp.com/developers/documentation/v3/rate_limiting.\n",
    "\n",
    "In this lab, you will define a search and then paginate over the results to retrieve all of the results. You'll then parse these responses as a list of dictionaries (for further exploration) and create a map using Folium to visualize the results geographically.\n",
    "\n",
    "### Requirements\n",
    "\n",
    "#### 1. Make the Initial Request\n",
    "\n",
    "Start by filling in your API key to make the initial request to the business search API. Investigate the structure of the response you get back and start figuring out how you will extract the relevant information.\n",
    "\n",
    "#### 2. Add Pagination\n",
    "\n",
    "Using loops and functions, collect the maximum number of results for your query from the API.\n",
    "\n",
    "#### 3. Perform Exploratory Analysis\n",
    "\n",
    "Interpret visualizations related to the price range, average rating, and number of reviews for all query results.\n",
    "\n",
    "#### 4. Create a Folium Map\n",
    "\n",
    "Using latitude and longitude data, plot the query results on an interactive map."
   ]
  },
  {
   "cell_type": "markdown",
   "metadata": {},
   "source": [
    "## 1. Make the Initial Request\n",
    "\n",
    "### Querying\n",
    "\n",
    "Start by making an initial request to the Yelp API. Your search must include at least 2 parameters: **term** and **location**. For example, you might search for pizza restaurants in NYC. The term and location is up to you but make the request below.\n",
    "\n",
    "Use the `requests` library ([documentation here](https://requests.readthedocs.io/en/master/user/quickstart/#make-a-request)).\n",
    "\n",
    "You'll also need an API key from Yelp. If you haven't done this already, go to the Yelp [Manage App page](https://www.yelp.com/developers/v3/manage_app) and create a new app (after making an account if you haven't already)."
   ]
  },
  {
   "cell_type": "code",
   "execution_count": 33,
   "metadata": {},
   "outputs": [
    {
     "data": {
      "text/plain": [
       "<Response [200]>"
      ]
     },
     "execution_count": 33,
     "metadata": {},
     "output_type": "execute_result"
    }
   ],
   "source": [
    "# Replace None with appropriate code\n",
    "\n",
    "# Import the requests library\n",
    "import requests \n",
    "\n",
    "# Get this from the \"Manage App\" page. Make sure you set them\n",
    "# back to None before pushing this to GitHub, since otherwise\n",
    "# your credentials will be compromised\n",
    "api_key = (\"duijy7NR5phx2r5alm18XV1zaXMldsLw-JgWu4a8_M7tfwJdMNwIdViaNdvHPILTfw2QAPLJOlEG62EL0yJYnBe5BQzV9tdavxQoErlp8uc6wcfdZpy5UnAjZLhVYnYx\")\n",
    "\n",
    "# These can be whatever you want! But the solution uses \"pizza\"\n",
    "# and \"New York NY\" if you want to compare your work directly\n",
    "term = \"pizza\"\n",
    "location = \"New York NY\"\n",
    "\n",
    "# Set up params for request\n",
    "url = \"https://api.yelp.com/v3/businesses/search\"\n",
    "headers = {\n",
    "    \"Authorization\": \"Bearer {}\".format(api_key)\n",
    "}\n",
    "url_params = {\n",
    "    \"term\": term.replace(\" \", \"+\"),\n",
    "    \"location\": location.replace(\" \", \"+\")\n",
    "}\n",
    "\n",
    "# Make the request using requests.get, passing in\n",
    "# url, headers=headers, and params=url_params\n",
    "response = requests.get(url, headers=headers, params=url_params)\n",
    "\n",
    "# Confirm we got a 200 response\n",
    "response"
   ]
  },
  {
   "cell_type": "code",
   "execution_count": 34,
   "metadata": {},
   "outputs": [
    {
     "data": {
      "text/plain": [
       "dict_keys(['businesses', 'total', 'region'])"
      ]
     },
     "execution_count": 34,
     "metadata": {},
     "output_type": "execute_result"
    }
   ],
   "source": [
    "# Run this cell without changes\n",
    "\n",
    "# Get the response body in JSON format\n",
    "response_json = response.json()\n",
    "# View the keys\n",
    "response_json.keys()"
   ]
  },
  {
   "cell_type": "markdown",
   "metadata": {},
   "source": [
    "### Extracting Data\n",
    "\n",
    "Now, retrieve the value associated with the `'businesses'` key, and inspect its contents."
   ]
  },
  {
   "cell_type": "code",
   "execution_count": 35,
   "metadata": {},
   "outputs": [
    {
     "data": {
      "text/plain": [
       "[{'id': 'zj8Lq1T8KIC5zwFief15jg',\n",
       "  'alias': 'prince-street-pizza-new-york-2',\n",
       "  'name': 'Prince Street Pizza',\n",
       "  'image_url': 'https://s3-media3.fl.yelpcdn.com/bphoto/ZAukOyv530w4KjOHC5YY1w/o.jpg',\n",
       "  'is_closed': False,\n",
       "  'url': 'https://www.yelp.com/biz/prince-street-pizza-new-york-2?adjust_creative=oLxbeSBTkI8-l2wyZUK74g&utm_campaign=yelp_api_v3&utm_medium=api_v3_business_search&utm_source=oLxbeSBTkI8-l2wyZUK74g',\n",
       "  'review_count': 4272,\n",
       "  'categories': [{'alias': 'pizza', 'title': 'Pizza'},\n",
       "   {'alias': 'italian', 'title': 'Italian'}],\n",
       "  'rating': 4.5,\n",
       "  'coordinates': {'latitude': 40.72308755605564,\n",
       "   'longitude': -73.99453001177575},\n",
       "  'transactions': ['delivery', 'pickup'],\n",
       "  'price': '$',\n",
       "  'location': {'address1': '27 Prince St',\n",
       "   'address2': None,\n",
       "   'address3': '',\n",
       "   'city': 'New York',\n",
       "   'zip_code': '10012',\n",
       "   'country': 'US',\n",
       "   'state': 'NY',\n",
       "   'display_address': ['27 Prince St', 'New York, NY 10012']},\n",
       "  'phone': '+12129664100',\n",
       "  'display_phone': '(212) 966-4100',\n",
       "  'distance': 1961.8771417367063},\n",
       " {'id': 'WIhm0W9197f_rRtDziq5qQ',\n",
       "  'alias': 'lombardis-pizza-new-york-4',\n",
       "  'name': \"Lombardi's Pizza\",\n",
       "  'image_url': 'https://s3-media1.fl.yelpcdn.com/bphoto/UZ6V_hobp1KpYDPOHNoCKw/o.jpg',\n",
       "  'is_closed': False,\n",
       "  'url': 'https://www.yelp.com/biz/lombardis-pizza-new-york-4?adjust_creative=oLxbeSBTkI8-l2wyZUK74g&utm_campaign=yelp_api_v3&utm_medium=api_v3_business_search&utm_source=oLxbeSBTkI8-l2wyZUK74g',\n",
       "  'review_count': 6288,\n",
       "  'categories': [{'alias': 'pizza', 'title': 'Pizza'}],\n",
       "  'rating': 4.0,\n",
       "  'coordinates': {'latitude': 40.7215934960083,\n",
       "   'longitude': -73.9955956044561},\n",
       "  'transactions': ['delivery', 'pickup'],\n",
       "  'price': '$$',\n",
       "  'location': {'address1': '32 Spring St',\n",
       "   'address2': '',\n",
       "   'address3': '',\n",
       "   'city': 'New York',\n",
       "   'zip_code': '10012',\n",
       "   'country': 'US',\n",
       "   'state': 'NY',\n",
       "   'display_address': ['32 Spring St', 'New York, NY 10012']},\n",
       "  'phone': '+12129417994',\n",
       "  'display_phone': '(212) 941-7994',\n",
       "  'distance': 1798.9959778083735}]"
      ]
     },
     "execution_count": 35,
     "metadata": {},
     "output_type": "execute_result"
    }
   ],
   "source": [
    "# Replace None with appropriate code\n",
    "\n",
    "# Retrieve the value from response_json\n",
    "businesses = response_json[\"businesses\"]\n",
    "\n",
    "# View the first 2 records\n",
    "businesses[:2]"
   ]
  },
  {
   "cell_type": "markdown",
   "metadata": {},
   "source": [
    "### Preparing Data\n",
    "\n",
    "Write a function `prepare_data` that takes in a list of dictionaries like `businesses` and returns a copy that has been prepared for analysis:\n",
    "\n",
    "1. The `coordinates` key-value pair has been converted into two separate key-value pairs, `latitude` and `longitude`\n",
    "2. All other key-value pairs except for `name`, `review_count`, `rating`, and `price` have been dropped\n",
    "3. All dictionaries missing one of the relevant keys or containing null values have been dropped\n",
    "\n",
    "In other words, the final keys for each dictionary should be `name`, `review_count`, `rating`, `price`, `latitude`, and `longitude`.\n",
    "\n",
    "Complete the function in the cell below:"
   ]
  },
  {
   "cell_type": "code",
   "execution_count": 36,
   "metadata": {},
   "outputs": [
    {
     "data": {
      "text/plain": [
       "[{'name': 'Prince Street Pizza',\n",
       "  'review_count': 4272,\n",
       "  'rating': 4.5,\n",
       "  'price': '$',\n",
       "  'latitude': 40.72308755605564,\n",
       "  'longitude': -73.99453001177575},\n",
       " {'name': \"Lombardi's Pizza\",\n",
       "  'review_count': 6288,\n",
       "  'rating': 4.0,\n",
       "  'price': '$$',\n",
       "  'latitude': 40.7215934960083,\n",
       "  'longitude': -73.9955956044561},\n",
       " {'name': \"Juliana's\",\n",
       "  'review_count': 2416,\n",
       "  'rating': 4.5,\n",
       "  'price': '$$',\n",
       "  'latitude': 40.70274718768062,\n",
       "  'longitude': -73.99343490196397},\n",
       " {'name': \"Grimaldi's Pizzeria\",\n",
       "  'review_count': 4760,\n",
       "  'rating': 3.5,\n",
       "  'price': '$$',\n",
       "  'latitude': 40.702583,\n",
       "  'longitude': -73.9932413},\n",
       " {'name': 'Lucali',\n",
       "  'review_count': 1772,\n",
       "  'rating': 4.0,\n",
       "  'price': '$$',\n",
       "  'latitude': 40.6818,\n",
       "  'longitude': -74.00024}]"
      ]
     },
     "execution_count": 36,
     "metadata": {},
     "output_type": "execute_result"
    }
   ],
   "source": [
    "# Replace None with appropriate code\n",
    "\n",
    "def prepare_data(data_list):\n",
    "    \"\"\"\n",
    "    This function takes in a list of dictionaries and prepares it\n",
    "    for analysis\n",
    "    \"\"\"\n",
    "    \n",
    "    # Make a new list to hold results\n",
    "    results = []\n",
    "    \n",
    "    for business_data in data_list:\n",
    "    \n",
    "        # Make a new dictionary to hold prepared data for this business\n",
    "        prepared_data = {}\n",
    "        \n",
    "        # Extract name, review_count, rating, and price key-value pairs\n",
    "        # from business_data and add to prepared_data\n",
    "        # If a key is not present in business_data, add it to prepared_data\n",
    "        # with an associated value of None\n",
    "        for key in (\"name\", \"review_count\", \"rating\", \"price\"):\n",
    "            prepared_data[key] = business_data.get(key, None)\n",
    "    \n",
    "        # Parse and add latitude and longitude columns\n",
    "        coordinates = business_data[\"coordinates\"]\n",
    "        prepared_data[\"latitude\"] = coordinates[\"latitude\"]\n",
    "        prepared_data[\"longitude\"] = coordinates[\"longitude\"]\n",
    "        \n",
    "        # Add to list if all values are present\n",
    "        if all(prepared_data.values()):\n",
    "            results.append(prepared_data)\n",
    "    \n",
    "    return results\n",
    "    \n",
    "# Test out function\n",
    "prepared_businesses = prepare_data(businesses)\n",
    "prepared_businesses[:5]"
   ]
  },
  {
   "cell_type": "markdown",
   "metadata": {},
   "source": [
    "Check that your function created the correct keys:"
   ]
  },
  {
   "cell_type": "code",
   "execution_count": 37,
   "metadata": {},
   "outputs": [],
   "source": [
    "# Run this cell without changes\n",
    "\n",
    "assert sorted(list(prepared_businesses[0].keys())) == ['latitude', 'longitude', 'name', 'price', 'rating', 'review_count']"
   ]
  },
  {
   "cell_type": "markdown",
   "metadata": {},
   "source": [
    "The following code will differ depending on your query, but we expect there to be 20 businesses in the original list, and potentially fewer in the prepared list (if any of them were missing data):"
   ]
  },
  {
   "cell_type": "code",
   "execution_count": 38,
   "metadata": {},
   "outputs": [
    {
     "name": "stdout",
     "output_type": "stream",
     "text": [
      "Original: 20\n",
      "Prepared: 20\n"
     ]
    }
   ],
   "source": [
    "# Run this cell without changes\n",
    "print(\"Original:\", len(businesses))\n",
    "print(\"Prepared:\", len(prepared_businesses))"
   ]
  },
  {
   "cell_type": "markdown",
   "metadata": {},
   "source": [
    "Great! We will reuse this function once we have retrieved the full dataset."
   ]
  },
  {
   "cell_type": "markdown",
   "metadata": {},
   "source": [
    "## 2. Add Pagination\n",
    "\n",
    "Now that you are able to extract information from one page of the response, let's figure out how to request as many pages as possible.\n",
    "\n",
    "### Determining the Total\n",
    "\n",
    "Depending on the number of total results for your query, you will either retrieve all of the results, or just the first 1000 (if there are more than 1000 total).\n",
    "\n",
    "We can find the total number of results using the `\"total\"` key:"
   ]
  },
  {
   "cell_type": "code",
   "execution_count": 39,
   "metadata": {},
   "outputs": [
    {
     "data": {
      "text/plain": [
       "11600"
      ]
     },
     "execution_count": 39,
     "metadata": {},
     "output_type": "execute_result"
    }
   ],
   "source": [
    "# Run this cell without changes\n",
    "response_json[\"total\"]"
   ]
  },
  {
   "cell_type": "markdown",
   "metadata": {},
   "source": [
    "(This is specific to the implementation of the Yelp API. Some APIs will just tell you that there are more pages, or will tell you the number of pages total, rather than the total number of results. If you're not sure, always check the documentation.)\n",
    "\n",
    "In the cell below, assign the variable `total` to either the value shown above (if it is less than 1000), or 1000."
   ]
  },
  {
   "cell_type": "code",
   "execution_count": 40,
   "metadata": {},
   "outputs": [],
   "source": [
    "# Replace None with appropriate code\n",
    "total = 11900"
   ]
  },
  {
   "cell_type": "markdown",
   "metadata": {},
   "source": [
    "### Calculating the Offsets\n",
    "\n",
    "The documentation states in the parameters section:\n",
    "\n",
    "> **Name**: `limit`, **Type:** int, **Description:** Optional. Number of business results to return. By default, it will return 20. Maximum is 50.\n",
    "\n",
    "> **Name**: `offset`, **Type:** int, **Description:** Optional. Offset the list of returned business results by this amount.\n",
    "\n",
    "So, to get the most results with the fewest API calls we want to set a limit of 50 every time. If, say, we wanted to get 210 total results, that would mean:\n",
    "\n",
    "1. Offset of `0` (first 50 records)\n",
    "2. Offset of `50` (second 50 records)\n",
    "3. Offset of `100` (third 50 records)\n",
    "4. Offset of `150` (fourth 50 records)\n",
    "5. Offset of `200` (final 10 records)\n",
    "\n",
    "In the cell below, create a function `get_offsets` that takes in a total and returns a list of offsets for that total. You can assume that there is a limit of 50 every time.\n",
    "\n",
    "*Hint: you can use `range` ([documentation here](https://docs.python.org/3.3/library/stdtypes.html?highlight=range#range)) to do this in one line of code. Just make the returned result is a list.*"
   ]
  },
  {
   "cell_type": "code",
   "execution_count": 41,
   "metadata": {},
   "outputs": [],
   "source": [
    "# Replace None with appropriate code\n",
    "def get_offsets(total):\n",
    "    \"\"\"\n",
    "    Get a list of offsets needed to get all pages\n",
    "    of data up until the total\n",
    "    \"\"\"\n",
    "    return list(range(0, total, 50))"
   ]
  },
  {
   "cell_type": "markdown",
   "metadata": {},
   "source": [
    "Check that your function works below:"
   ]
  },
  {
   "cell_type": "code",
   "execution_count": 42,
   "metadata": {},
   "outputs": [],
   "source": [
    "# Run this cell without changes\n",
    "\n",
    "assert get_offsets(200) == [0, 50, 100, 150]\n",
    "assert get_offsets(210) == [0, 50, 100, 150, 200]"
   ]
  },
  {
   "cell_type": "markdown",
   "metadata": {},
   "source": [
    "### Putting It All Together\n",
    "\n",
    "Recall that the following variable has already been declared for you:"
   ]
  },
  {
   "cell_type": "code",
   "execution_count": 43,
   "metadata": {},
   "outputs": [
    {
     "data": {
      "text/plain": [
       "{'term': 'pizza', 'location': 'New+York+NY'}"
      ]
     },
     "execution_count": 43,
     "metadata": {},
     "output_type": "execute_result"
    }
   ],
   "source": [
    "# Run this cell without changes\n",
    "url_params"
   ]
  },
  {
   "cell_type": "markdown",
   "metadata": {},
   "source": [
    "We'll go ahead and also specify that the limit should be 50 every time:"
   ]
  },
  {
   "cell_type": "code",
   "execution_count": 44,
   "metadata": {},
   "outputs": [],
   "source": [
    "# Run this cell without changes\n",
    "url_params[\"limit\"] = 50"
   ]
  },
  {
   "cell_type": "markdown",
   "metadata": {},
   "source": [
    "In order to modify the offset, you'll need to add it to `url_params` with the key `\"offset\"` and whatever value is needed.\n",
    "\n",
    "In the cell below, write code that:\n",
    "\n",
    "* Creates an empty list for the full prepared dataset\n",
    "* Loops over all of the offsets from `get_offsets` and makes an API call each time with the specified offset\n",
    "* Calls `prepare_data` to get a cleaned version of the result of each API call\n",
    "* Extends the full prepared dataset list with each query's prepared dataset"
   ]
  },
  {
   "cell_type": "code",
   "execution_count": 46,
   "metadata": {},
   "outputs": [
    {
     "ename": "KeyError",
     "evalue": "'businesses'",
     "output_type": "error",
     "traceback": [
      "\u001b[0;31m---------------------------------------------------------------------------\u001b[0m",
      "\u001b[0;31mKeyError\u001b[0m                                  Traceback (most recent call last)",
      "\u001b[0;32m<ipython-input-46-9c4625635e65>\u001b[0m in \u001b[0;36m<module>\u001b[0;34m\u001b[0m\n\u001b[1;32m     18\u001b[0m \u001b[0;34m\u001b[0m\u001b[0m\n\u001b[1;32m     19\u001b[0m     \u001b[0;31m# Get the list of businesses from the response_json\u001b[0m\u001b[0;34m\u001b[0m\u001b[0;34m\u001b[0m\u001b[0;34m\u001b[0m\u001b[0m\n\u001b[0;32m---> 20\u001b[0;31m     \u001b[0mbusinesses\u001b[0m \u001b[0;34m=\u001b[0m \u001b[0mresponse_json\u001b[0m\u001b[0;34m[\u001b[0m\u001b[0;34m\"businesses\"\u001b[0m\u001b[0;34m]\u001b[0m\u001b[0;34m\u001b[0m\u001b[0;34m\u001b[0m\u001b[0m\n\u001b[0m\u001b[1;32m     21\u001b[0m \u001b[0;34m\u001b[0m\u001b[0m\n\u001b[1;32m     22\u001b[0m     \u001b[0;31m# Call the prepare_data function to get a list of processed data\u001b[0m\u001b[0;34m\u001b[0m\u001b[0;34m\u001b[0m\u001b[0;34m\u001b[0m\u001b[0m\n",
      "\u001b[0;31mKeyError\u001b[0m: 'businesses'"
     ]
    }
   ],
   "source": [
    "# Replace None with appropriate code\n",
    "import time\n",
    "\n",
    "# Create an empty list for the full prepared dataset\n",
    "full_dataset = []\n",
    "\n",
    "for offset in get_offsets(total):\n",
    "    # Add or update the \"offset\" key-value pair in url_params\n",
    "    url_params[\"offset\"] = offset\n",
    "    \n",
    "    # Make the query and get the response\n",
    "    response = requests.get(url, headers=headers, params=url_params)\n",
    "    \n",
    "    \n",
    "    # Get the response body in JSON format\n",
    "    response_json = response.json()\n",
    "    \n",
    "    time.sleep(1)\n",
    "    \n",
    "    # Get the list of businesses from the response_json\n",
    "    businesses = response_json[\"businesses\"]\n",
    "    \n",
    "    # Call the prepare_data function to get a list of processed data\n",
    "    prepared_businesses = prepare_data(businesses)\n",
    "    \n",
    "    # Extend full_dataset with this list (don't append, or you'll get\n",
    "    # a list of lists instead of a flat list)\n",
    "    full_dataset.extend(prepared_businesses)\n",
    "\n",
    "# Check the length of the full dataset. It will be up to `total`,\n",
    "# potentially less if there were missing values\n",
    "len(full_dataset)"
   ]
  },
  {
   "cell_type": "markdown",
   "metadata": {},
   "source": [
    "This code may take up to a few minutes to run.\n",
    "\n",
    "If you get an error trying to get the response body in JSON format, try adding `time.sleep(1)` right after the `requests.get` line, so your code will sleep for 1 second between each API call."
   ]
  },
  {
   "cell_type": "markdown",
   "metadata": {},
   "source": [
    "## 3. Perform Exploratory Analysis\n",
    "\n",
    "Take the businesses from the previous question and do an initial exploratory analysis. We have provided some plots for you to interpret:"
   ]
  },
  {
   "cell_type": "code",
   "execution_count": 45,
   "metadata": {},
   "outputs": [
    {
     "data": {
      "image/png": "[encoded data removed]",
      "text/plain": [
       "<Figure size 1152x360 with 3 Axes>"
      ]
     },
     "metadata": {
      "needs_background": "light"
     },
     "output_type": "display_data"
    }
   ],
   "source": [
    "# Run this cell without changes\n",
    "from collections import Counter\n",
    "import matplotlib.pyplot as plt\n",
    "%matplotlib inline\n",
    "\n",
    "fig, (ax1, ax2, ax3) = plt.subplots(ncols=3, figsize=(16, 5))\n",
    "\n",
    "# Plot distribution of number of reviews\n",
    "all_review_counts = [x[\"review_count\"] for x in full_dataset]\n",
    "ax1.hist(all_review_counts)\n",
    "ax1.set_title(\"Review Count Distribution\")\n",
    "ax1.set_xlabel(\"Number of Reviews\")\n",
    "ax1.set_ylabel(\"Number of Businesses\")\n",
    "\n",
    "# Plot rating distribution\n",
    "all_ratings = [x[\"rating\"] for x in full_dataset]\n",
    "rating_counter = Counter(all_ratings)\n",
    "rating_keys = sorted(rating_counter.keys())\n",
    "ax2.bar(rating_keys, [rating_counter[key] for key in rating_keys])\n",
    "ax2.set_title(\"Rating Distribution\")\n",
    "ax2.set_xlabel(\"Rating\")\n",
    "ax2.set_ylabel(\"Number of Businesses\")\n",
    "\n",
    "# Plot price distribution\n",
    "all_prices = [x[\"price\"].replace(\"$\", r\"\\$\") for x in full_dataset]\n",
    "price_counter = Counter(all_prices)\n",
    "price_keys = sorted(price_counter.keys())\n",
    "ax3.bar(price_keys, [price_counter[key] for key in price_keys])\n",
    "ax3.set_title(\"Price Distribution\")\n",
    "ax3.set_xlabel(\"Price Category\")\n",
    "ax3.set_ylabel(\"Number of Businesses\");"
   ]
  },
  {
   "cell_type": "markdown",
   "metadata": {},
   "source": [
    "Describe the distributions displayed above and interpret them in the context of your query. (Your answer may differ from the solution branch depending on your query.)"
   ]
  },
  {
   "cell_type": "code",
   "execution_count": null,
   "metadata": {},
   "outputs": [],
   "source": [
    "# Replace None with appropriate text\n",
    "\"\"\"\n",
    "The review count distribution leans towards the left. Majority of businessees have less than 2,000 reviews or no reviews. \n",
    "Rating is distrubted evenly with most businesses at a 4.0 rating. The prices of each businesses is affordable. \n",
    "\"\"\""
   ]
  },
  {
   "cell_type": "markdown",
   "metadata": {},
   "source": [
    "In the cell below, we also plot the rating distributions by price. In this setup, a price of one dollar sign is \"lower price\" and everything else is \"higher price\"."
   ]
  },
  {
   "cell_type": "code",
   "execution_count": 47,
   "metadata": {},
   "outputs": [
    {
     "data": {
      "image/png": "[encoded data removed]",
      "text/plain": [
       "<Figure size 432x288 with 1 Axes>"
      ]
     },
     "metadata": {
      "needs_background": "light"
     },
     "output_type": "display_data"
    }
   ],
   "source": [
    "# Run this cell without changes\n",
    "\n",
    "higher_price = []\n",
    "lower_price = []\n",
    "for row in full_dataset:\n",
    "    if row[\"price\"] == \"$\":\n",
    "        lower_price.append(row[\"rating\"])\n",
    "    else:\n",
    "        higher_price.append(row[\"rating\"])\n",
    "        \n",
    "fig, ax = plt.subplots()\n",
    "\n",
    "ax.hist([higher_price, lower_price], label=[\"higher price\", \"lower price\"], density=True)\n",
    "\n",
    "ax.legend();"
   ]
  },
  {
   "cell_type": "markdown",
   "metadata": {},
   "source": [
    "Is a higher price associated with a higher rating? (No need for any additional math/statistics, just interpret what you see in the plot.)"
   ]
  },
  {
   "cell_type": "code",
   "execution_count": null,
   "metadata": {},
   "outputs": [],
   "source": [
    "# Replace None with appropriate text\n",
    "\"\"\"\n",
    "The higher price businsesses has a higher rating. \n",
    "\"\"\""
   ]
  },
  {
   "cell_type": "markdown",
   "metadata": {},
   "source": [
    "Finally, let's look at ratings vs. review counts:"
   ]
  },
  {
   "cell_type": "code",
   "execution_count": 48,
   "metadata": {},
   "outputs": [
    {
     "data": {
      "image/png": "[encoded data removed]",
      "text/plain": [
       "<Figure size 1152x360 with 1 Axes>"
      ]
     },
     "metadata": {
      "needs_background": "light"
     },
     "output_type": "display_data"
    }
   ],
   "source": [
    "# Run this cell without changes\n",
    "fig, ax = plt.subplots(figsize=(16,5))\n",
    "\n",
    "ax.scatter(all_review_counts, all_ratings, alpha=0.2)\n",
    "ax.set_xlabel(\"Number of Reviews\")\n",
    "ax.set_ylabel(\"Rating\")\n",
    "# \"zoom in\" to a subset of review counts\n",
    "ax.set_xlim(left=0, right=1000);"
   ]
  },
  {
   "cell_type": "markdown",
   "metadata": {},
   "source": [
    "Is a higher number of reviews associated with a higher rating?"
   ]
  },
  {
   "cell_type": "code",
   "execution_count": null,
   "metadata": {},
   "outputs": [],
   "source": [
    "# Replace None with appropriate text\n",
    "\"\"\"\n",
    "Yes, higher number of reviews associates a higher raiting. \n",
    "\"\"\""
   ]
  },
  {
   "cell_type": "markdown",
   "metadata": {},
   "source": [
    "## 4. Create a Folium Map\n",
    "\n",
    "Make a map using Folium of the businesses you retrieved. Be sure to also add popups to the markers giving some basic information such as name, rating and price.\n",
    "\n",
    "You can center the map around the latitude and longitude of the first item in `full_dataset`."
   ]
  },
  {
   "cell_type": "code",
   "execution_count": 49,
   "metadata": {},
   "outputs": [
    {
     "data": {
      "text/html": [
       "<div style=\"width:100%;\"><div style=\"position:relative;width:100%;height:0;padding-bottom:60%;\"><span style=\"color:#565656\">Make this Notebook Trusted to load map: File -> Trust Notebook</span><iframe src=\"about:blank\" style=\"position:absolute;width:100%;height:100%;left:0;top:0;border:none !important;\" data-html=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 onload=\"this.contentDocument.open();this.contentDocument.write(atob(this.getAttribute('data-html')));this.contentDocument.close();\" allowfullscreen webkitallowfullscreen mozallowfullscreen></iframe></div></div>"
      ],
      "text/plain": [
       "<folium.folium.Map at 0x7fc18a19a790>"
      ]
     },
     "execution_count": 49,
     "metadata": {},
     "output_type": "execute_result"
    }
   ],
   "source": [
    "# Replace None with appropriate code\n",
    "\n",
    "# Import the library\n",
    "import folium\n",
    "\n",
    "# Set up center latitude and longitude\n",
    "center_lat = full_dataset[0][\"latitude\"]\n",
    "center_long = full_dataset[0][\"longitude\"]\n",
    "\n",
    "# Initialize map with center lat and long\n",
    "yelp_map = folium.Map([center_lat, center_long], zoom_start=12)\n",
    "\n",
    "# Adjust this limit to see more or fewer businesses\n",
    "limit=100\n",
    "\n",
    "\n",
    "for business in full_dataset[:limit]:\n",
    "    # Extract information about business\n",
    "    lat = business[\"latitude\"]\n",
    "    long = business[\"longitude\"]\n",
    "    name = business[\"name\"]\n",
    "    rating = business[\"rating\"]\n",
    "    price = business[\"price\"]\n",
    "    details = \"{}\\nPrice: {}\\nRating: {}\".format(name,price,rating)\n",
    "    \n",
    "    # Create popup with relevant details\n",
    "    popup = folium.Popup(details)\n",
    "    \n",
    "    # Create marker with relevant lat/long and popup\n",
    "    marker = folium.Marker([lat, long], popup=popup)\n",
    "    \n",
    "    marker.add_to(yelp_map)\n",
    "\n",
    "yelp_map"
   ]
  },
  {
   "cell_type": "markdown",
   "metadata": {},
   "source": [
    "## Summary\n",
    "\n",
    "Nice work! In this lab, you've made multiple API calls to Yelp in order to paginate through a results set, performing some basic exploratory analysis and then creating a nice interactive map to display the results using Folium! Well done!"
   ]
  }
 ],
 "metadata": {
  "kernelspec": {
   "display_name": "Python 3",
   "language": "python",
   "name": "python3"
  },
  "language_info": {
   "codemirror_mode": {
    "name": "ipython",
    "version": 3
   },
   "file_extension": ".py",
   "mimetype": "text/x-python",
   "name": "python",
   "nbconvert_exporter": "python",
   "pygments_lexer": "ipython3",
   "version": "3.8.5"
  },
  "toc": {
   "base_numbering": 1,
   "nav_menu": {},
   "number_sections": true,
   "sideBar": true,
   "skip_h1_title": false,
   "title_cell": "Table of Contents",
   "title_sidebar": "Contents",
   "toc_cell": false,
   "toc_position": {},
   "toc_section_display": true,
   "toc_window_display": false
  }
 },
 "nbformat": 4,
 "nbformat_minor": 2
}
